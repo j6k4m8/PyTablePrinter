{
 "cells": [
  {
   "cell_type": "code",
   "execution_count": 1,
   "metadata": {
    "collapsed": false
   },
   "outputs": [],
   "source": [
    "from PyTablePrinter.tableprinter import *"
   ]
  },
  {
   "cell_type": "code",
   "execution_count": 6,
   "metadata": {
    "collapsed": false
   },
   "outputs": [],
   "source": [
    "data = [\n",
    "    {\n",
    "        \"has_sequel\": True,\n",
    "        \"author\": \"Margaret Atwood\",\n",
    "        \"title\": \"Oryx & Crake\",\n",
    "        \"rating\": 5\n",
    "    },\n",
    "    {\n",
    "        \"author\": \"Kurt Vonnegut\",\n",
    "        \"title\": \"Galapagos\",\n",
    "        \"rating\": 5\n",
    "    }\n",
    "]\n",
    "\n",
    "tp = TablePrinter(data, col_order=[(\"title\", \"The Title Of The Book\"), (\"rating\", \"Rating\", lambda d: str(100. * d['rating']/5.0) + \"%\"), (\"has_sequel\", \"Sequel?\"), (\"favorite\", \"Favorite?\")])"
   ]
  },
  {
   "cell_type": "code",
   "execution_count": 7,
   "metadata": {
    "collapsed": false
   },
   "outputs": [
    {
     "name": "stdout",
     "output_type": "stream",
     "text": [
      "| The Title Of The Book|Rating|Sequel?|Favorite? |\n",
      "| -----|-----|-----|----- |\n",
      "| Oryx & Crake|100.0%|True| |\n",
      "| Galapagos|100.0%|| |\n"
     ]
    }
   ],
   "source": [
    "print tp.to_markdown()"
   ]
  },
  {
   "cell_type": "code",
   "execution_count": 7,
   "metadata": {
    "collapsed": false
   },
   "outputs": [],
   "source": [
    "c = [{\"a\":\"A\"}, {\"b\":\"B\"}]"
   ]
  },
  {
   "cell_type": "code",
   "execution_count": 8,
   "metadata": {
    "collapsed": false
   },
   "outputs": [
    {
     "name": "stdout",
     "output_type": "stream",
     "text": [
      "{'a': 'A'}\n",
      "{'b': 'B'}\n"
     ]
    }
   ],
   "source": [
    "for k in [d for d in c]:\n",
    "    print k"
   ]
  },
  {
   "cell_type": "code",
   "execution_count": null,
   "metadata": {
    "collapsed": true
   },
   "outputs": [],
   "source": []
  }
 ],
 "metadata": {
  "kernelspec": {
   "display_name": "Python 2",
   "language": "python",
   "name": "python2"
  },
  "language_info": {
   "codemirror_mode": {
    "name": "ipython",
    "version": 2
   },
   "file_extension": ".py",
   "mimetype": "text/x-python",
   "name": "python",
   "nbconvert_exporter": "python",
   "pygments_lexer": "ipython2",
   "version": "2.7.10"
  }
 },
 "nbformat": 4,
 "nbformat_minor": 0
}
