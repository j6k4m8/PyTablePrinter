{
 "cells": [
  {
   "cell_type": "code",
   "execution_count": 1,
   "metadata": {
    "collapsed": true
   },
   "outputs": [],
   "source": [
    "from tableprinter import *"
   ]
  },
  {
   "cell_type": "code",
   "execution_count": 14,
   "metadata": {
    "collapsed": true
   },
   "outputs": [],
   "source": [
    "data = [\n",
    "    {\n",
    "        \"has_sequel\": True,\n",
    "        \"author\": \"Margaret Atwood\",\n",
    "        \"title\": \"Oryx & Crake\",\n",
    "        \"rating\": 5\n",
    "    },\n",
    "    {\n",
    "        \"author\": \"Kurt Vonnegut\",\n",
    "        \"title\": \"Galapagos\",\n",
    "        \"rating\": 5\n",
    "    }\n",
    "]\n",
    "\n",
    "tp = TablePrinter(data, col_order=[\"title\", \"rating\", \"has_sequel\", \"favorite\"])"
   ]
  },
  {
   "cell_type": "code",
   "execution_count": 15,
   "metadata": {
    "collapsed": false
   },
   "outputs": [
    {
     "name": "stdout",
     "output_type": "stream",
     "text": [
      "|title|rating|has_sequel|favorite|\n",
      "|-----|-----|-----|-----|\n",
      "| Oryx & Crake|5|True| |\n",
      "| Galapagos|5|| |\n"
     ]
    }
   ],
   "source": [
    "print tp.to_markdown()"
   ]
  },
  {
   "cell_type": "code",
   "execution_count": null,
   "metadata": {
    "collapsed": true
   },
   "outputs": [],
   "source": []
  }
 ],
 "metadata": {
  "kernelspec": {
   "display_name": "Python 2",
   "language": "python",
   "name": "python2"
  },
  "language_info": {
   "codemirror_mode": {
    "name": "ipython",
    "version": 2
   },
   "file_extension": ".py",
   "mimetype": "text/x-python",
   "name": "python",
   "nbconvert_exporter": "python",
   "pygments_lexer": "ipython2",
   "version": "2.7.10"
  }
 },
 "nbformat": 4,
 "nbformat_minor": 0
}
